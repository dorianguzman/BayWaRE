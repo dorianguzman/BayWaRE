{
 "cells": [
  {
   "cell_type": "markdown",
   "metadata": {},
   "source": [
    "# BayWa RE Candidate challenge\n",
    "\n",
    "***\n",
    "This notebook contains the main steps to solve the candidate problem for BayWa RE. The current notebook is divided as follows:\n",
    "1. **Import main libraries and internally-developed functions**\n",
    "2. **Read and visualize data set**\n",
    "3. **Data Handling**\n",
    "    - *Cleaning data*\n",
    "        - *Physical filter - ClearSky model*\n",
    "        - *Negative-values filter*\n",
    "        - *Zero value filters*\n",
    "    - *Module azimuth angle separation*\n",
    "    - *Imputing missing data*\n",
    "    - *Data Normalization*\n",
    "        - *Changes in Nominal Power detection*\n",
    "4. **Detect Historical Statistically meaninful faults**\n",
    "    - *By Orientation*:\n",
    "        - *Confidence interval calculation*\n",
    "        - *Detect faults*\n",
    "        - *Report*\n",
    "5. **Fault detection with only 6 hours data**"
   ]
  },
  {
   "cell_type": "markdown",
   "metadata": {},
   "source": [
    "# 1. Import main libraries and internally-developed functions"
   ]
  },
  {
   "cell_type": "markdown",
   "metadata": {},
   "source": [
    "## Native libraries"
   ]
  },
  {
   "cell_type": "code",
   "execution_count": 51,
   "metadata": {},
   "outputs": [],
   "source": [
    "import pandas as pd\n",
    "import pvlib\n",
    "import numpy as np\n",
    "%matplotlib inline\n",
    "import seaborn as sns;sns.set_style(\"whitegrid\")\n",
    "import plotly.express as px\n",
    "from plotly.subplots import make_subplots\n",
    "import plotly.graph_objects as go\n",
    "from sklearn.experimental import enable_iterative_imputer\n",
    "from sklearn.impute import IterativeImputer\n",
    "import os\n",
    "import warnings\n",
    "warnings.filterwarnings('ignore')"
   ]
  },
  {
   "cell_type": "markdown",
   "metadata": {},
   "source": [
    "## Internal functions"
   ]
  },
  {
   "cell_type": "markdown",
   "metadata": {},
   "source": [
    "a"
   ]
  }
 ],
 "metadata": {
  "language_info": {
   "name": "python"
  }
 },
 "nbformat": 4,
 "nbformat_minor": 2
}
